{
 "cells": [
  {
   "cell_type": "code",
   "execution_count": 2,
   "metadata": {},
   "outputs": [
    {
     "data": {
      "text/html": [
       "<div>\n",
       "<style scoped>\n",
       "    .dataframe tbody tr th:only-of-type {\n",
       "        vertical-align: middle;\n",
       "    }\n",
       "\n",
       "    .dataframe tbody tr th {\n",
       "        vertical-align: top;\n",
       "    }\n",
       "\n",
       "    .dataframe thead th {\n",
       "        text-align: right;\n",
       "    }\n",
       "</style>\n",
       "<table border=\"1\" class=\"dataframe\">\n",
       "  <thead>\n",
       "    <tr style=\"text-align: right;\">\n",
       "      <th></th>\n",
       "      <th>REGISTRATION/YEAR</th>\n",
       "      <th>GENDER</th>\n",
       "      <th>BIRTH WEIGHT(kg)</th>\n",
       "      <th>FOOT-LENGTH(mm)</th>\n",
       "      <th>MODE OF DELIVERY</th>\n",
       "      <th>INDICATION</th>\n",
       "      <th>MATERNAL HIGH RISK FACTORS</th>\n",
       "      <th>GA LMP (weeks)</th>\n",
       "      <th>GA USG(weeks)</th>\n",
       "      <th>GA BALLARD(weeks)</th>\n",
       "    </tr>\n",
       "    <tr>\n",
       "      <th>SL NO.</th>\n",
       "      <th></th>\n",
       "      <th></th>\n",
       "      <th></th>\n",
       "      <th></th>\n",
       "      <th></th>\n",
       "      <th></th>\n",
       "      <th></th>\n",
       "      <th></th>\n",
       "      <th></th>\n",
       "      <th></th>\n",
       "    </tr>\n",
       "  </thead>\n",
       "  <tbody>\n",
       "    <tr>\n",
       "      <th>1</th>\n",
       "      <td>64/50624/2018</td>\n",
       "      <td>female</td>\n",
       "      <td>3.974</td>\n",
       "      <td>80.0</td>\n",
       "      <td>LSCS</td>\n",
       "      <td>polyhydramnios with scar tenderness</td>\n",
       "      <td>hypothyroidism</td>\n",
       "      <td>38.4</td>\n",
       "      <td>38.2</td>\n",
       "      <td>40</td>\n",
       "    </tr>\n",
       "    <tr>\n",
       "      <th>2</th>\n",
       "      <td>63/50624/2018</td>\n",
       "      <td>female</td>\n",
       "      <td>2.235</td>\n",
       "      <td>76.7</td>\n",
       "      <td>LSCS</td>\n",
       "      <td>prom with unfav cervix</td>\n",
       "      <td>-</td>\n",
       "      <td>38.0</td>\n",
       "      <td>37.0</td>\n",
       "      <td>38</td>\n",
       "    </tr>\n",
       "    <tr>\n",
       "      <th>3</th>\n",
       "      <td>65/50733/2018</td>\n",
       "      <td>male</td>\n",
       "      <td>2.245</td>\n",
       "      <td>70.0</td>\n",
       "      <td>LSCS</td>\n",
       "      <td>Iugr with less liquor</td>\n",
       "      <td>NaN</td>\n",
       "      <td>35.0</td>\n",
       "      <td>35.1</td>\n",
       "      <td>36</td>\n",
       "    </tr>\n",
       "    <tr>\n",
       "      <th>4</th>\n",
       "      <td>90/4818/2018</td>\n",
       "      <td>female</td>\n",
       "      <td>1.235</td>\n",
       "      <td>61.9</td>\n",
       "      <td>LSCS</td>\n",
       "      <td>NaN</td>\n",
       "      <td>NaN</td>\n",
       "      <td>32.0</td>\n",
       "      <td>31.2</td>\n",
       "      <td>32</td>\n",
       "    </tr>\n",
       "    <tr>\n",
       "      <th>5</th>\n",
       "      <td>91/4881/2018</td>\n",
       "      <td>male</td>\n",
       "      <td>3.377</td>\n",
       "      <td>79.7</td>\n",
       "      <td>LSCS</td>\n",
       "      <td>post-dated</td>\n",
       "      <td>NaN</td>\n",
       "      <td>40.0</td>\n",
       "      <td>38.2</td>\n",
       "      <td>38</td>\n",
       "    </tr>\n",
       "    <tr>\n",
       "      <th>6</th>\n",
       "      <td>103/31308/2018</td>\n",
       "      <td>male</td>\n",
       "      <td>2.367</td>\n",
       "      <td>71.8</td>\n",
       "      <td>FTND</td>\n",
       "      <td>NaN</td>\n",
       "      <td>psychiatric medication and hypothyroidism</td>\n",
       "      <td>36.0</td>\n",
       "      <td>36.0</td>\n",
       "      <td>34</td>\n",
       "    </tr>\n",
       "    <tr>\n",
       "      <th>7</th>\n",
       "      <td>106/51359/2018</td>\n",
       "      <td>female</td>\n",
       "      <td>3.166</td>\n",
       "      <td>79.3</td>\n",
       "      <td>FTND</td>\n",
       "      <td>NaN</td>\n",
       "      <td>NaN</td>\n",
       "      <td>39.2</td>\n",
       "      <td>38.2</td>\n",
       "      <td>38</td>\n",
       "    </tr>\n",
       "    <tr>\n",
       "      <th>8</th>\n",
       "      <td>109/6057/2018</td>\n",
       "      <td>male</td>\n",
       "      <td>3.025</td>\n",
       "      <td>80.1</td>\n",
       "      <td>LSCS</td>\n",
       "      <td>prom</td>\n",
       "      <td>-</td>\n",
       "      <td>39.3</td>\n",
       "      <td>38.0</td>\n",
       "      <td>40</td>\n",
       "    </tr>\n",
       "    <tr>\n",
       "      <th>9</th>\n",
       "      <td>111/51446/2018</td>\n",
       "      <td>female</td>\n",
       "      <td>2.375</td>\n",
       "      <td>75.5</td>\n",
       "      <td>LSCS</td>\n",
       "      <td>CPD</td>\n",
       "      <td>-</td>\n",
       "      <td>36.4</td>\n",
       "      <td>36.5</td>\n",
       "      <td>36</td>\n",
       "    </tr>\n",
       "    <tr>\n",
       "      <th>10</th>\n",
       "      <td>110/51445/2018</td>\n",
       "      <td>female</td>\n",
       "      <td>1.965</td>\n",
       "      <td>72.2</td>\n",
       "      <td>LSCS</td>\n",
       "      <td>post-dated</td>\n",
       "      <td>-</td>\n",
       "      <td>36.0</td>\n",
       "      <td>36.1</td>\n",
       "      <td>36</td>\n",
       "    </tr>\n",
       "  </tbody>\n",
       "</table>\n",
       "</div>"
      ],
      "text/plain": [
       "       REGISTRATION/YEAR  GENDER  BIRTH WEIGHT(kg)  FOOT-LENGTH(mm)  \\\n",
       "SL NO.                                                                \n",
       "1          64/50624/2018  female             3.974             80.0   \n",
       "2          63/50624/2018  female             2.235             76.7   \n",
       "3          65/50733/2018    male             2.245             70.0   \n",
       "4           90/4818/2018  female             1.235             61.9   \n",
       "5           91/4881/2018    male             3.377             79.7   \n",
       "6         103/31308/2018    male             2.367             71.8   \n",
       "7         106/51359/2018  female             3.166             79.3   \n",
       "8          109/6057/2018    male             3.025             80.1   \n",
       "9         111/51446/2018  female             2.375             75.5   \n",
       "10        110/51445/2018  female             1.965             72.2   \n",
       "\n",
       "       MODE OF DELIVERY                           INDICATION  \\\n",
       "SL NO.                                                         \n",
       "1                  LSCS  polyhydramnios with scar tenderness   \n",
       "2                  LSCS               prom with unfav cervix   \n",
       "3                  LSCS                Iugr with less liquor   \n",
       "4                  LSCS                                  NaN   \n",
       "5                  LSCS                          post-dated    \n",
       "6                  FTND                                  NaN   \n",
       "7                  FTND                                  NaN   \n",
       "8                  LSCS                                prom    \n",
       "9                  LSCS                                  CPD   \n",
       "10                 LSCS                           post-dated   \n",
       "\n",
       "                       MATERNAL HIGH RISK FACTORS  GA LMP (weeks)  \\\n",
       "SL NO.                                                              \n",
       "1                                  hypothyroidism            38.4   \n",
       "2                                               -            38.0   \n",
       "3                                             NaN            35.0   \n",
       "4                                             NaN            32.0   \n",
       "5                                             NaN            40.0   \n",
       "6       psychiatric medication and hypothyroidism            36.0   \n",
       "7                                             NaN            39.2   \n",
       "8                                               -            39.3   \n",
       "9                                               -            36.4   \n",
       "10                                              -            36.0   \n",
       "\n",
       "        GA USG(weeks)  GA BALLARD(weeks)  \n",
       "SL NO.                                    \n",
       "1                38.2                 40  \n",
       "2                37.0                 38  \n",
       "3                35.1                 36  \n",
       "4                31.2                 32  \n",
       "5                38.2                 38  \n",
       "6                36.0                 34  \n",
       "7                38.2                 38  \n",
       "8                38.0                 40  \n",
       "9                36.5                 36  \n",
       "10               36.1                 36  "
      ]
     },
     "execution_count": 2,
     "metadata": {},
     "output_type": "execute_result"
    }
   ],
   "source": [
    "import pandas as pd\n",
    "import matplotlib.pyplot as plt\n",
    "import seaborn as sns\n",
    "sns.set(style=\"darkgrid\")\n",
    "\n",
    "\n",
    "# Open access from subho's google drive\n",
    "GOOGLE_SHEET_ID = '1oBmEgJ4pQIp-gxD-EMOYHVgvQxqZbZ4h9RgziQ7cqDQ'\n",
    "\n",
    "\n",
    "sheet_1 = pd.read_csv('https://docs.google.com/spreadsheets/d/' + \n",
    "                   GOOGLE_SHEET_ID +\n",
    "                   '/export?gid=0&format=csv',\n",
    "                   # Set first column as rownames in data frame\n",
    "                   index_col=0\n",
    "                  )\n",
    "sheet_1.head(10)"
   ]
  },
  {
   "cell_type": "code",
   "execution_count": 108,
   "metadata": {},
   "outputs": [
    {
     "data": {
      "text/plain": [
       "<matplotlib.axes._subplots.AxesSubplot at 0x12695abe0>"
      ]
     },
     "execution_count": 108,
     "metadata": {},
     "output_type": "execute_result"
    },
    {
     "data": {
      "image/png": "[encoded data removed]",
      "text/plain": [
       "<Figure size 640x480 with 1 Axes>"
      ]
     },
     "metadata": {},
     "output_type": "display_data"
    }
   ],
   "source": [
    "# sanity plots\n",
    "\n",
    "sns.scatterplot(x=\"FOOT-LENGTH(mm)\", y=\"GA USG(weeks)\", data=sheet_1)"
   ]
  },
  {
   "cell_type": "code",
   "execution_count": 3,
   "metadata": {},
   "outputs": [
    {
     "name": "stdout",
     "output_type": "stream",
     "text": [
      "[9.60004213]\n",
      "[[0.36569912]]\n"
     ]
    },
    {
     "data": {
      "image/png": "[encoded data removed]",
      "text/plain": [
       "<Figure size 432x288 with 1 Axes>"
      ]
     },
     "metadata": {
      "needs_background": "light"
     },
     "output_type": "display_data"
    }
   ],
   "source": [
    "from sklearn.model_selection import cross_val_predict\n",
    "from sklearn.model_selection import train_test_split  \n",
    "from sklearn.linear_model import LinearRegression  \n",
    "import numpy as np\n",
    "\n",
    "length = 200\n",
    "\n",
    "X = sheet_1.iloc[:, 3][:length].values \n",
    "y = sheet_1.iloc[:, 8][:length].values \n",
    "# print(X)\n",
    "# print(y)\n",
    "X = X.reshape(length, 1)\n",
    "y = y.reshape(length, 1)\n",
    "X_train, X_test, y_train, y_test = train_test_split(X, y, test_size=0.2, random_state=0)  \n",
    "\n",
    "lr = LinearRegression()\n",
    "lr.fit(X_train, y_train) \n",
    "print(lr.intercept_)  \n",
    "print(lr.coef_)\n",
    "y_pred = lr.predict(X_test)  \n",
    "\n",
    "# Plot outputs\n",
    "plt.scatter(X_train, y_train,  color='black')\n",
    "plt.plot(X_test, y_pred, color='blue', linewidth=3)\n",
    "\n",
    "plt.xticks()\n",
    "plt.yticks()\n",
    "\n",
    "plt.ylabel(\"GA USG(weeks)\")\n",
    "plt.xlabel(\"FOOT-LENGTH(mm)\")\n",
    "\n",
    "plt.show()"
   ]
  },
  {
   "cell_type": "code",
   "execution_count": 170,
   "metadata": {},
   "outputs": [
    {
     "name": "stdout",
     "output_type": "stream",
     "text": [
      "[9.90659535]\n",
      "[[0.36381622]]\n"
     ]
    },
    {
     "data": {
      "image/png": "[encoded data removed]",
      "text/plain": [
       "<Figure size 640x480 with 1 Axes>"
      ]
     },
     "metadata": {},
     "output_type": "display_data"
    }
   ],
   "source": [
    "length = 200\n",
    "\n",
    "X = sheet_1.iloc[:, 3][:length].values \n",
    "y = sheet_1.iloc[:, 7][:length].values \n",
    "# print(X)\n",
    "# print(y)\n",
    "X = X.reshape(length, 1)\n",
    "y = y.reshape(length, 1)\n",
    "X_train, X_test, y_train, y_test = train_test_split(X, y, test_size=0.2, random_state=0)  \n",
    "\n",
    "lr = LinearRegression()\n",
    "lr.fit(X_train, y_train) \n",
    "print(lr.intercept_)  \n",
    "print(lr.coef_)\n",
    "y_pred = lr.predict(X_test)  \n",
    "\n",
    "# Plot outputs\n",
    "plt.scatter(X_train, y_train,  color='black')\n",
    "plt.plot(X_test, y_pred, color='blue', linewidth=3)\n",
    "\n",
    "plt.xticks()\n",
    "plt.yticks()\n",
    "\n",
    "plt.ylabel(\"GA LMP (weeks)\")\n",
    "plt.xlabel(\"FOOT-LENGTH(mm)\")\n",
    "\n",
    "plt.show()"
   ]
  },
  {
   "cell_type": "code",
   "execution_count": 165,
   "metadata": {},
   "outputs": [
    {
     "name": "stdout",
     "output_type": "stream",
     "text": [
      "[7.43725701]\n",
      "[[0.39723424]]\n"
     ]
    },
    {
     "data": {
      "image/png": "[encoded data removed]",
      "text/plain": [
       "<Figure size 640x480 with 1 Axes>"
      ]
     },
     "metadata": {},
     "output_type": "display_data"
    }
   ],
   "source": [
    "length = 200\n",
    "\n",
    "X = sheet_1.iloc[:, 3][:length].values \n",
    "y = sheet_1.iloc[:, 9][:length].values \n",
    "# print(X)\n",
    "# print(y)\n",
    "X = X.reshape(length, 1)\n",
    "y = y.reshape(length, 1)\n",
    "X_train, X_test, y_train, y_test = train_test_split(X, y, test_size=0.2, random_state=0)  \n",
    "\n",
    "lr = LinearRegression()\n",
    "lr.fit(X_train, y_train) \n",
    "print(lr.intercept_)  \n",
    "print(lr.coef_)\n",
    "y_pred = lr.predict(X_test)  \n",
    "\n",
    "# Plot outputs\n",
    "plt.scatter(X_train, y_train,  color='black')\n",
    "plt.plot(X_test, y_pred, color='blue', linewidth=3)\n",
    "\n",
    "plt.xticks()\n",
    "plt.yticks()\n",
    "\n",
    "plt.ylabel(\"GA BALLARD(weeks)\")\n",
    "plt.xlabel(\"FOOT-LENGTH(mm)\")\n",
    "\n",
    "plt.show()"
   ]
  },
  {
   "cell_type": "code",
   "execution_count": 118,
   "metadata": {},
   "outputs": [
    {
     "data": {
      "text/html": [
       "<div>\n",
       "<style scoped>\n",
       "    .dataframe tbody tr th:only-of-type {\n",
       "        vertical-align: middle;\n",
       "    }\n",
       "\n",
       "    .dataframe tbody tr th {\n",
       "        vertical-align: top;\n",
       "    }\n",
       "\n",
       "    .dataframe thead th {\n",
       "        text-align: right;\n",
       "    }\n",
       "</style>\n",
       "<table border=\"1\" class=\"dataframe\">\n",
       "  <thead>\n",
       "    <tr style=\"text-align: right;\">\n",
       "      <th></th>\n",
       "      <th>Foot_length</th>\n",
       "      <th>GA_USG</th>\n",
       "    </tr>\n",
       "  </thead>\n",
       "  <tbody>\n",
       "    <tr>\n",
       "      <th>0</th>\n",
       "      <td>57</td>\n",
       "      <td>30.444892</td>\n",
       "    </tr>\n",
       "    <tr>\n",
       "      <th>1</th>\n",
       "      <td>58</td>\n",
       "      <td>30.810591</td>\n",
       "    </tr>\n",
       "    <tr>\n",
       "      <th>2</th>\n",
       "      <td>59</td>\n",
       "      <td>31.176290</td>\n",
       "    </tr>\n",
       "    <tr>\n",
       "      <th>3</th>\n",
       "      <td>60</td>\n",
       "      <td>31.541989</td>\n",
       "    </tr>\n",
       "    <tr>\n",
       "      <th>4</th>\n",
       "      <td>61</td>\n",
       "      <td>31.907689</td>\n",
       "    </tr>\n",
       "    <tr>\n",
       "      <th>5</th>\n",
       "      <td>62</td>\n",
       "      <td>32.273388</td>\n",
       "    </tr>\n",
       "    <tr>\n",
       "      <th>6</th>\n",
       "      <td>63</td>\n",
       "      <td>32.639087</td>\n",
       "    </tr>\n",
       "    <tr>\n",
       "      <th>7</th>\n",
       "      <td>64</td>\n",
       "      <td>33.004786</td>\n",
       "    </tr>\n",
       "    <tr>\n",
       "      <th>8</th>\n",
       "      <td>65</td>\n",
       "      <td>33.370485</td>\n",
       "    </tr>\n",
       "    <tr>\n",
       "      <th>9</th>\n",
       "      <td>66</td>\n",
       "      <td>33.736184</td>\n",
       "    </tr>\n",
       "    <tr>\n",
       "      <th>10</th>\n",
       "      <td>67</td>\n",
       "      <td>34.101883</td>\n",
       "    </tr>\n",
       "    <tr>\n",
       "      <th>11</th>\n",
       "      <td>68</td>\n",
       "      <td>34.467582</td>\n",
       "    </tr>\n",
       "    <tr>\n",
       "      <th>12</th>\n",
       "      <td>69</td>\n",
       "      <td>34.833282</td>\n",
       "    </tr>\n",
       "    <tr>\n",
       "      <th>13</th>\n",
       "      <td>70</td>\n",
       "      <td>35.198981</td>\n",
       "    </tr>\n",
       "    <tr>\n",
       "      <th>14</th>\n",
       "      <td>71</td>\n",
       "      <td>35.564680</td>\n",
       "    </tr>\n",
       "    <tr>\n",
       "      <th>15</th>\n",
       "      <td>72</td>\n",
       "      <td>35.930379</td>\n",
       "    </tr>\n",
       "    <tr>\n",
       "      <th>16</th>\n",
       "      <td>73</td>\n",
       "      <td>36.296078</td>\n",
       "    </tr>\n",
       "    <tr>\n",
       "      <th>17</th>\n",
       "      <td>74</td>\n",
       "      <td>36.661777</td>\n",
       "    </tr>\n",
       "    <tr>\n",
       "      <th>18</th>\n",
       "      <td>75</td>\n",
       "      <td>37.027476</td>\n",
       "    </tr>\n",
       "    <tr>\n",
       "      <th>19</th>\n",
       "      <td>76</td>\n",
       "      <td>37.393175</td>\n",
       "    </tr>\n",
       "    <tr>\n",
       "      <th>20</th>\n",
       "      <td>77</td>\n",
       "      <td>37.758874</td>\n",
       "    </tr>\n",
       "    <tr>\n",
       "      <th>21</th>\n",
       "      <td>78</td>\n",
       "      <td>38.124574</td>\n",
       "    </tr>\n",
       "    <tr>\n",
       "      <th>22</th>\n",
       "      <td>79</td>\n",
       "      <td>38.490273</td>\n",
       "    </tr>\n",
       "    <tr>\n",
       "      <th>23</th>\n",
       "      <td>80</td>\n",
       "      <td>38.855972</td>\n",
       "    </tr>\n",
       "    <tr>\n",
       "      <th>24</th>\n",
       "      <td>81</td>\n",
       "      <td>39.221671</td>\n",
       "    </tr>\n",
       "    <tr>\n",
       "      <th>25</th>\n",
       "      <td>82</td>\n",
       "      <td>39.587370</td>\n",
       "    </tr>\n",
       "  </tbody>\n",
       "</table>\n",
       "</div>"
      ],
      "text/plain": [
       "    Foot_length     GA_USG\n",
       "0            57  30.444892\n",
       "1            58  30.810591\n",
       "2            59  31.176290\n",
       "3            60  31.541989\n",
       "4            61  31.907689\n",
       "5            62  32.273388\n",
       "6            63  32.639087\n",
       "7            64  33.004786\n",
       "8            65  33.370485\n",
       "9            66  33.736184\n",
       "10           67  34.101883\n",
       "11           68  34.467582\n",
       "12           69  34.833282\n",
       "13           70  35.198981\n",
       "14           71  35.564680\n",
       "15           72  35.930379\n",
       "16           73  36.296078\n",
       "17           74  36.661777\n",
       "18           75  37.027476\n",
       "19           76  37.393175\n",
       "20           77  37.758874\n",
       "21           78  38.124574\n",
       "22           79  38.490273\n",
       "23           80  38.855972\n",
       "24           81  39.221671\n",
       "25           82  39.587370"
      ]
     },
     "execution_count": 118,
     "metadata": {},
     "output_type": "execute_result"
    }
   ],
   "source": [
    "#List range of GA USG\n",
    "F_length = list(range(57,83))\n",
    "GA_usg = [lr.coef_[0][0]*x+lr.intercept_[0] for x in F_length]\n",
    "df = pd.DataFrame()\n",
    "df['Foot_length'] = F_length\n",
    "df['GA_USG'] = GA_usg\n",
    "\n",
    "df.head(len(GA_usg))"
   ]
  },
  {
   "cell_type": "code",
   "execution_count": 119,
   "metadata": {},
   "outputs": [
    {
     "data": {
      "text/plain": [
       "0.9147955514261469"
      ]
     },
     "execution_count": 119,
     "metadata": {},
     "output_type": "execute_result"
    }
   ],
   "source": [
    "# Get correlation coeff. r between GA_USG and Foot Length\n",
    "\n",
    "sheet_1[\"FOOT-LENGTH(mm)\"].corr(sheet_1[\"GA USG(weeks)\"])"
   ]
  },
  {
   "cell_type": "code",
   "execution_count": 145,
   "metadata": {},
   "outputs": [
    {
     "data": {
      "text/plain": [
       "0.8889123099613799"
      ]
     },
     "execution_count": 145,
     "metadata": {},
     "output_type": "execute_result"
    }
   ],
   "source": [
    "sheet_1[\"FOOT-LENGTH(mm)\"].corr(sheet_1[\"GA LMP (weeks)\"])"
   ]
  },
  {
   "cell_type": "code",
   "execution_count": 146,
   "metadata": {},
   "outputs": [
    {
     "data": {
      "text/plain": [
       "0.9059790828494109"
      ]
     },
     "execution_count": 146,
     "metadata": {},
     "output_type": "execute_result"
    }
   ],
   "source": [
    "sheet_1[\"FOOT-LENGTH(mm)\"].corr(sheet_1[\"GA BALLARD(weeks)\"])"
   ]
  },
  {
   "cell_type": "code",
   "execution_count": 157,
   "metadata": {},
   "outputs": [
    {
     "data": {
      "text/plain": [
       "6.212544530845529"
      ]
     },
     "execution_count": 157,
     "metadata": {},
     "output_type": "execute_result"
    }
   ],
   "source": [
    "sheet_1[\"FOOT-LENGTH(mm)\"].std() "
   ]
  },
  {
   "cell_type": "code",
   "execution_count": 158,
   "metadata": {},
   "outputs": [
    {
     "data": {
      "text/plain": [
       "75.137"
      ]
     },
     "execution_count": 158,
     "metadata": {},
     "output_type": "execute_result"
    }
   ],
   "source": [
    "sheet_1[\"FOOT-LENGTH(mm)\"].mean()"
   ]
  },
  {
   "cell_type": "code",
   "execution_count": 14,
   "metadata": {},
   "outputs": [
    {
     "data": {
      "text/plain": [
       "76.4"
      ]
     },
     "execution_count": 14,
     "metadata": {},
     "output_type": "execute_result"
    }
   ],
   "source": [
    "sheet_1[\"FOOT-LENGTH(mm)\"].median()"
   ]
  },
  {
   "cell_type": "code",
   "execution_count": 18,
   "metadata": {},
   "outputs": [
    {
     "data": {
      "text/plain": [
       "count    200.000000\n",
       "mean      75.137000\n",
       "std        6.212545\n",
       "min       44.600000\n",
       "25%       72.975000\n",
       "50%       76.400000\n",
       "75%       78.400000\n",
       "max       87.100000\n",
       "Name: FOOT-LENGTH(mm), dtype: float64"
      ]
     },
     "execution_count": 18,
     "metadata": {},
     "output_type": "execute_result"
    }
   ],
   "source": [
    "sheet_1[\"FOOT-LENGTH(mm)\"].describe(include='int64')"
   ]
  },
  {
   "cell_type": "code",
   "execution_count": 19,
   "metadata": {},
   "outputs": [
    {
     "data": {
      "text/plain": [
       "count    200.000000\n",
       "mean       2.678600\n",
       "std        0.654688\n",
       "min        0.670000\n",
       "25%        2.373000\n",
       "50%        2.754000\n",
       "75%        3.090500\n",
       "max        3.986000\n",
       "Name: BIRTH WEIGHT(kg), dtype: float64"
      ]
     },
     "execution_count": 19,
     "metadata": {},
     "output_type": "execute_result"
    }
   ],
   "source": [
    "sheet_1[\"BIRTH WEIGHT(kg)\"].describe(include='int64')"
   ]
  },
  {
   "cell_type": "code",
   "execution_count": 20,
   "metadata": {},
   "outputs": [
    {
     "data": {
      "text/plain": [
       "count    200.000000\n",
       "mean      37.084500\n",
       "std        2.448733\n",
       "min       26.100000\n",
       "25%       36.400000\n",
       "50%       37.400000\n",
       "75%       38.600000\n",
       "max       40.600000\n",
       "Name: GA USG(weeks), dtype: float64"
      ]
     },
     "execution_count": 20,
     "metadata": {},
     "output_type": "execute_result"
    }
   ],
   "source": [
    "sheet_1[\"GA USG(weeks)\"].describe(include='int64')"
   ]
  },
  {
   "cell_type": "code",
   "execution_count": 160,
   "metadata": {},
   "outputs": [
    {
     "data": {
      "text/plain": [
       "2.44873257135812"
      ]
     },
     "execution_count": 160,
     "metadata": {},
     "output_type": "execute_result"
    }
   ],
   "source": [
    "sheet_1[\"GA USG(weeks)\"].std() "
   ]
  },
  {
   "cell_type": "code",
   "execution_count": 161,
   "metadata": {},
   "outputs": [
    {
     "data": {
      "text/plain": [
       "37.0845"
      ]
     },
     "execution_count": 161,
     "metadata": {},
     "output_type": "execute_result"
    }
   ],
   "source": [
    "sheet_1[\"GA USG(weeks)\"].mean() "
   ]
  },
  {
   "cell_type": "code",
   "execution_count": 162,
   "metadata": {},
   "outputs": [
    {
     "data": {
      "text/plain": [
       "(array([0.92528999]), array([2.02914483e-68]))"
      ]
     },
     "execution_count": 162,
     "metadata": {},
     "output_type": "execute_result"
    }
   ],
   "source": [
    "import scipy\n",
    "#pearson's co-relation\n",
    "scipy.stats.pearsonr(X_train, y_train)"
   ]
  },
  {
   "cell_type": "code",
   "execution_count": 163,
   "metadata": {},
   "outputs": [
    {
     "data": {
      "text/plain": [
       "Ttest_indResult(statistic=array([69.0756809]), pvalue=array([1.54723284e-193]))"
      ]
     },
     "execution_count": 163,
     "metadata": {},
     "output_type": "execute_result"
    }
   ],
   "source": [
    "#student T test\n",
    "scipy.stats.ttest_ind(X_train, y_train)"
   ]
  },
  {
   "cell_type": "code",
   "execution_count": 122,
   "metadata": {},
   "outputs": [
    {
     "data": {
      "text/html": [
       "<div>\n",
       "<style scoped>\n",
       "    .dataframe tbody tr th:only-of-type {\n",
       "        vertical-align: middle;\n",
       "    }\n",
       "\n",
       "    .dataframe tbody tr th {\n",
       "        vertical-align: top;\n",
       "    }\n",
       "\n",
       "    .dataframe thead th {\n",
       "        text-align: right;\n",
       "    }\n",
       "</style>\n",
       "<table border=\"1\" class=\"dataframe\">\n",
       "  <thead>\n",
       "    <tr style=\"text-align: right;\">\n",
       "      <th></th>\n",
       "      <th>REGISTRATION/YEAR</th>\n",
       "      <th>GENDER</th>\n",
       "      <th>BIRTH WEIGHT(kg)</th>\n",
       "      <th>FOOT-LENGTH(mm)</th>\n",
       "      <th>MODE OF DELIVERY</th>\n",
       "      <th>INDICATION</th>\n",
       "      <th>MATERNAL HIGH RISK FACTORS</th>\n",
       "      <th>GA LMP (weeks)</th>\n",
       "      <th>GA USG(weeks)</th>\n",
       "      <th>GA BALLARD(weeks)</th>\n",
       "    </tr>\n",
       "    <tr>\n",
       "      <th>SL NO.</th>\n",
       "      <th></th>\n",
       "      <th></th>\n",
       "      <th></th>\n",
       "      <th></th>\n",
       "      <th></th>\n",
       "      <th></th>\n",
       "      <th></th>\n",
       "      <th></th>\n",
       "      <th></th>\n",
       "      <th></th>\n",
       "    </tr>\n",
       "  </thead>\n",
       "  <tbody>\n",
       "    <tr>\n",
       "      <th>197</th>\n",
       "      <td>RG/1900624365</td>\n",
       "      <td>male</td>\n",
       "      <td>0.670</td>\n",
       "      <td>44.6</td>\n",
       "      <td>SVD</td>\n",
       "      <td>-</td>\n",
       "      <td>-</td>\n",
       "      <td>26.1</td>\n",
       "      <td>26.0</td>\n",
       "      <td>26</td>\n",
       "    </tr>\n",
       "    <tr>\n",
       "      <th>198</th>\n",
       "      <td>RG/1900436419</td>\n",
       "      <td>female</td>\n",
       "      <td>1.035</td>\n",
       "      <td>58.6</td>\n",
       "      <td>LSCS</td>\n",
       "      <td>PROM</td>\n",
       "      <td>-</td>\n",
       "      <td>28.6</td>\n",
       "      <td>29.0</td>\n",
       "      <td>28</td>\n",
       "    </tr>\n",
       "    <tr>\n",
       "      <th>196</th>\n",
       "      <td>RG/1900475694</td>\n",
       "      <td>female</td>\n",
       "      <td>0.894</td>\n",
       "      <td>52.4</td>\n",
       "      <td>LSCS</td>\n",
       "      <td>PROM</td>\n",
       "      <td>-</td>\n",
       "      <td>29.2</td>\n",
       "      <td>29.0</td>\n",
       "      <td>28</td>\n",
       "    </tr>\n",
       "    <tr>\n",
       "      <th>191</th>\n",
       "      <td>RG/1900415647</td>\n",
       "      <td>female</td>\n",
       "      <td>1.010</td>\n",
       "      <td>56.4</td>\n",
       "      <td>SVD</td>\n",
       "      <td>-</td>\n",
       "      <td>-</td>\n",
       "      <td>28.6</td>\n",
       "      <td>29.0</td>\n",
       "      <td>28</td>\n",
       "    </tr>\n",
       "    <tr>\n",
       "      <th>195</th>\n",
       "      <td>RG/1900235634</td>\n",
       "      <td>male</td>\n",
       "      <td>1.122</td>\n",
       "      <td>58.9</td>\n",
       "      <td>SVD</td>\n",
       "      <td>-</td>\n",
       "      <td>-</td>\n",
       "      <td>30.4</td>\n",
       "      <td>30.0</td>\n",
       "      <td>30</td>\n",
       "    </tr>\n",
       "  </tbody>\n",
       "</table>\n",
       "</div>"
      ],
      "text/plain": [
       "       REGISTRATION/YEAR  GENDER  BIRTH WEIGHT(kg)  FOOT-LENGTH(mm)  \\\n",
       "SL NO.                                                                \n",
       "197        RG/1900624365    male             0.670             44.6   \n",
       "198        RG/1900436419  female             1.035             58.6   \n",
       "196        RG/1900475694  female             0.894             52.4   \n",
       "191        RG/1900415647  female             1.010             56.4   \n",
       "195        RG/1900235634    male             1.122             58.9   \n",
       "\n",
       "       MODE OF DELIVERY INDICATION MATERNAL HIGH RISK FACTORS  GA LMP (weeks)  \\\n",
       "SL NO.                                                                          \n",
       "197                 SVD          -                          -            26.1   \n",
       "198                LSCS       PROM                          -            28.6   \n",
       "196                LSCS       PROM                          -            29.2   \n",
       "191                 SVD          -                          -            28.6   \n",
       "195                 SVD          -                          -            30.4   \n",
       "\n",
       "        GA USG(weeks)  GA BALLARD(weeks)  \n",
       "SL NO.                                    \n",
       "197              26.0                 26  \n",
       "198              29.0                 28  \n",
       "196              29.0                 28  \n",
       "191              29.0                 28  \n",
       "195              30.0                 30  "
      ]
     },
     "execution_count": 122,
     "metadata": {},
     "output_type": "execute_result"
    }
   ],
   "source": [
    "#bracketing data\n",
    "\n",
    "df = sheet_1.round({\"GA USG(weeks)\": 0}).sort_values([\"GA USG(weeks)\"], ascending=[1])\n",
    "df.head()"
   ]
  },
  {
   "cell_type": "code",
   "execution_count": 123,
   "metadata": {},
   "outputs": [
    {
     "data": {
      "text/html": [
       "<div>\n",
       "<style scoped>\n",
       "    .dataframe tbody tr th:only-of-type {\n",
       "        vertical-align: middle;\n",
       "    }\n",
       "\n",
       "    .dataframe tbody tr th {\n",
       "        vertical-align: top;\n",
       "    }\n",
       "\n",
       "    .dataframe thead th {\n",
       "        text-align: right;\n",
       "    }\n",
       "</style>\n",
       "<table border=\"1\" class=\"dataframe\">\n",
       "  <thead>\n",
       "    <tr style=\"text-align: right;\">\n",
       "      <th></th>\n",
       "      <th>GA USG(weeks)</th>\n",
       "      <th>count</th>\n",
       "      <th>FOOT-LENGTH(mm)_mean</th>\n",
       "      <th>FOOT-LENGTH(mm)_std</th>\n",
       "      <th>BIRTH WEIGHT(kg)_mean</th>\n",
       "      <th>BIRTH WEIGHT(kg)_std</th>\n",
       "      <th>GA LMP (weeks)_mean</th>\n",
       "      <th>GA LMP (weeks)_std</th>\n",
       "      <th>GA BALLARD(weeks)_mean</th>\n",
       "      <th>GA BALLARD(weeks)_std</th>\n",
       "    </tr>\n",
       "  </thead>\n",
       "  <tbody>\n",
       "    <tr>\n",
       "      <th>0</th>\n",
       "      <td>26.0</td>\n",
       "      <td>1</td>\n",
       "      <td>44.600000</td>\n",
       "      <td>NaN</td>\n",
       "      <td>0.670000</td>\n",
       "      <td>NaN</td>\n",
       "      <td>26.100000</td>\n",
       "      <td>NaN</td>\n",
       "      <td>26.000000</td>\n",
       "      <td>NaN</td>\n",
       "    </tr>\n",
       "    <tr>\n",
       "      <th>1</th>\n",
       "      <td>29.0</td>\n",
       "      <td>3</td>\n",
       "      <td>55.800000</td>\n",
       "      <td>3.143247</td>\n",
       "      <td>0.979667</td>\n",
       "      <td>0.075235</td>\n",
       "      <td>28.800000</td>\n",
       "      <td>0.346410</td>\n",
       "      <td>28.000000</td>\n",
       "      <td>0.000000</td>\n",
       "    </tr>\n",
       "    <tr>\n",
       "      <th>2</th>\n",
       "      <td>30.0</td>\n",
       "      <td>4</td>\n",
       "      <td>55.000000</td>\n",
       "      <td>4.109339</td>\n",
       "      <td>0.964000</td>\n",
       "      <td>0.136438</td>\n",
       "      <td>30.025000</td>\n",
       "      <td>0.330404</td>\n",
       "      <td>29.500000</td>\n",
       "      <td>1.000000</td>\n",
       "    </tr>\n",
       "    <tr>\n",
       "      <th>3</th>\n",
       "      <td>31.0</td>\n",
       "      <td>3</td>\n",
       "      <td>63.600000</td>\n",
       "      <td>1.808314</td>\n",
       "      <td>1.242333</td>\n",
       "      <td>0.011846</td>\n",
       "      <td>31.233333</td>\n",
       "      <td>0.750555</td>\n",
       "      <td>31.333333</td>\n",
       "      <td>1.154701</td>\n",
       "    </tr>\n",
       "    <tr>\n",
       "      <th>4</th>\n",
       "      <td>32.0</td>\n",
       "      <td>6</td>\n",
       "      <td>66.733333</td>\n",
       "      <td>2.137912</td>\n",
       "      <td>1.436500</td>\n",
       "      <td>0.180130</td>\n",
       "      <td>31.966667</td>\n",
       "      <td>0.242212</td>\n",
       "      <td>32.333333</td>\n",
       "      <td>0.816497</td>\n",
       "    </tr>\n",
       "    <tr>\n",
       "      <th>5</th>\n",
       "      <td>33.0</td>\n",
       "      <td>1</td>\n",
       "      <td>66.500000</td>\n",
       "      <td>NaN</td>\n",
       "      <td>1.325000</td>\n",
       "      <td>NaN</td>\n",
       "      <td>32.600000</td>\n",
       "      <td>NaN</td>\n",
       "      <td>32.000000</td>\n",
       "      <td>NaN</td>\n",
       "    </tr>\n",
       "    <tr>\n",
       "      <th>6</th>\n",
       "      <td>34.0</td>\n",
       "      <td>3</td>\n",
       "      <td>68.266667</td>\n",
       "      <td>1.789786</td>\n",
       "      <td>1.855333</td>\n",
       "      <td>0.436768</td>\n",
       "      <td>35.366667</td>\n",
       "      <td>1.882374</td>\n",
       "      <td>34.000000</td>\n",
       "      <td>0.000000</td>\n",
       "    </tr>\n",
       "    <tr>\n",
       "      <th>7</th>\n",
       "      <td>35.0</td>\n",
       "      <td>4</td>\n",
       "      <td>71.225000</td>\n",
       "      <td>2.125049</td>\n",
       "      <td>2.246000</td>\n",
       "      <td>0.063880</td>\n",
       "      <td>35.300000</td>\n",
       "      <td>0.200000</td>\n",
       "      <td>35.500000</td>\n",
       "      <td>1.000000</td>\n",
       "    </tr>\n",
       "    <tr>\n",
       "      <th>8</th>\n",
       "      <td>36.0</td>\n",
       "      <td>35</td>\n",
       "      <td>72.780000</td>\n",
       "      <td>2.129595</td>\n",
       "      <td>2.394543</td>\n",
       "      <td>0.261619</td>\n",
       "      <td>36.628571</td>\n",
       "      <td>0.494423</td>\n",
       "      <td>36.228571</td>\n",
       "      <td>0.807528</td>\n",
       "    </tr>\n",
       "    <tr>\n",
       "      <th>9</th>\n",
       "      <td>37.0</td>\n",
       "      <td>42</td>\n",
       "      <td>75.507143</td>\n",
       "      <td>2.476169</td>\n",
       "      <td>2.656500</td>\n",
       "      <td>0.269428</td>\n",
       "      <td>37.326190</td>\n",
       "      <td>0.608501</td>\n",
       "      <td>37.523810</td>\n",
       "      <td>0.968733</td>\n",
       "    </tr>\n",
       "    <tr>\n",
       "      <th>10</th>\n",
       "      <td>38.0</td>\n",
       "      <td>46</td>\n",
       "      <td>77.782609</td>\n",
       "      <td>2.394002</td>\n",
       "      <td>2.942587</td>\n",
       "      <td>0.340127</td>\n",
       "      <td>38.247826</td>\n",
       "      <td>0.760917</td>\n",
       "      <td>38.195652</td>\n",
       "      <td>0.653863</td>\n",
       "    </tr>\n",
       "    <tr>\n",
       "      <th>11</th>\n",
       "      <td>39.0</td>\n",
       "      <td>31</td>\n",
       "      <td>78.674194</td>\n",
       "      <td>2.626020</td>\n",
       "      <td>3.180290</td>\n",
       "      <td>0.353090</td>\n",
       "      <td>39.090323</td>\n",
       "      <td>0.735914</td>\n",
       "      <td>39.354839</td>\n",
       "      <td>0.950382</td>\n",
       "    </tr>\n",
       "    <tr>\n",
       "      <th>12</th>\n",
       "      <td>40.0</td>\n",
       "      <td>20</td>\n",
       "      <td>81.420000</td>\n",
       "      <td>2.653816</td>\n",
       "      <td>3.363100</td>\n",
       "      <td>0.332685</td>\n",
       "      <td>39.685000</td>\n",
       "      <td>1.033275</td>\n",
       "      <td>39.800000</td>\n",
       "      <td>0.894427</td>\n",
       "    </tr>\n",
       "    <tr>\n",
       "      <th>13</th>\n",
       "      <td>41.0</td>\n",
       "      <td>1</td>\n",
       "      <td>84.100000</td>\n",
       "      <td>NaN</td>\n",
       "      <td>3.442000</td>\n",
       "      <td>NaN</td>\n",
       "      <td>40.600000</td>\n",
       "      <td>NaN</td>\n",
       "      <td>42.000000</td>\n",
       "      <td>NaN</td>\n",
       "    </tr>\n",
       "  </tbody>\n",
       "</table>\n",
       "</div>"
      ],
      "text/plain": [
       "    GA USG(weeks)  count  FOOT-LENGTH(mm)_mean  FOOT-LENGTH(mm)_std  \\\n",
       "0            26.0      1             44.600000                  NaN   \n",
       "1            29.0      3             55.800000             3.143247   \n",
       "2            30.0      4             55.000000             4.109339   \n",
       "3            31.0      3             63.600000             1.808314   \n",
       "4            32.0      6             66.733333             2.137912   \n",
       "5            33.0      1             66.500000                  NaN   \n",
       "6            34.0      3             68.266667             1.789786   \n",
       "7            35.0      4             71.225000             2.125049   \n",
       "8            36.0     35             72.780000             2.129595   \n",
       "9            37.0     42             75.507143             2.476169   \n",
       "10           38.0     46             77.782609             2.394002   \n",
       "11           39.0     31             78.674194             2.626020   \n",
       "12           40.0     20             81.420000             2.653816   \n",
       "13           41.0      1             84.100000                  NaN   \n",
       "\n",
       "    BIRTH WEIGHT(kg)_mean  BIRTH WEIGHT(kg)_std  GA LMP (weeks)_mean  \\\n",
       "0                0.670000                   NaN            26.100000   \n",
       "1                0.979667              0.075235            28.800000   \n",
       "2                0.964000              0.136438            30.025000   \n",
       "3                1.242333              0.011846            31.233333   \n",
       "4                1.436500              0.180130            31.966667   \n",
       "5                1.325000                   NaN            32.600000   \n",
       "6                1.855333              0.436768            35.366667   \n",
       "7                2.246000              0.063880            35.300000   \n",
       "8                2.394543              0.261619            36.628571   \n",
       "9                2.656500              0.269428            37.326190   \n",
       "10               2.942587              0.340127            38.247826   \n",
       "11               3.180290              0.353090            39.090323   \n",
       "12               3.363100              0.332685            39.685000   \n",
       "13               3.442000                   NaN            40.600000   \n",
       "\n",
       "    GA LMP (weeks)_std  GA BALLARD(weeks)_mean  GA BALLARD(weeks)_std  \n",
       "0                  NaN               26.000000                    NaN  \n",
       "1             0.346410               28.000000               0.000000  \n",
       "2             0.330404               29.500000               1.000000  \n",
       "3             0.750555               31.333333               1.154701  \n",
       "4             0.242212               32.333333               0.816497  \n",
       "5                  NaN               32.000000                    NaN  \n",
       "6             1.882374               34.000000               0.000000  \n",
       "7             0.200000               35.500000               1.000000  \n",
       "8             0.494423               36.228571               0.807528  \n",
       "9             0.608501               37.523810               0.968733  \n",
       "10            0.760917               38.195652               0.653863  \n",
       "11            0.735914               39.354839               0.950382  \n",
       "12            1.033275               39.800000               0.894427  \n",
       "13                 NaN               42.000000                    NaN  "
      ]
     },
     "execution_count": 123,
     "metadata": {},
     "output_type": "execute_result"
    }
   ],
   "source": [
    "new_df = pd.DataFrame()\n",
    "new_df[\"GA USG(weeks)\"] = df.groupby(\"GA USG(weeks)\")[\"GA USG(weeks)\"].mean().values\n",
    "new_df[\"count\"] = df.groupby(\"GA USG(weeks)\")[\"FOOT-LENGTH(mm)\"].count().values\n",
    "\n",
    "new_df[\"FOOT-LENGTH(mm)_mean\"]= df.groupby(\"GA USG(weeks)\")[\"FOOT-LENGTH(mm)\"].mean().values\n",
    "new_df[\"FOOT-LENGTH(mm)_std\"]= df.groupby(\"GA USG(weeks)\")[\"FOOT-LENGTH(mm)\"].std().values\n",
    "\n",
    "new_df[\"BIRTH WEIGHT(kg)_mean\"]= df.groupby(\"GA USG(weeks)\")[\"BIRTH WEIGHT(kg)\"].mean().values\n",
    "new_df[\"BIRTH WEIGHT(kg)_std\"]= df.groupby(\"GA USG(weeks)\")[\"BIRTH WEIGHT(kg)\"].std().values\n",
    "\n",
    "new_df[\"GA LMP (weeks)_mean\"]= df.groupby(\"GA USG(weeks)\")[\"GA LMP (weeks)\"].mean().values\n",
    "new_df[\"GA LMP (weeks)_std\"]= df.groupby(\"GA USG(weeks)\")[\"GA LMP (weeks)\"].std().values\n",
    "\n",
    "new_df[\"GA LMP (weeks)_mean\"]= df.groupby(\"GA USG(weeks)\")[\"GA LMP (weeks)\"].mean().values\n",
    "new_df[\"GA LMP (weeks)_std\"]= df.groupby(\"GA USG(weeks)\")[\"GA LMP (weeks)\"].std().values\n",
    "\n",
    "new_df[\"GA BALLARD(weeks)_mean\"]= df.groupby(\"GA USG(weeks)\")[\"GA BALLARD(weeks)\"].mean().values\n",
    "new_df[\"GA BALLARD(weeks)_std\"]= df.groupby(\"GA USG(weeks)\")[\"GA BALLARD(weeks)\"].std().values\n",
    "\n",
    "new_df.head(20)"
   ]
  },
  {
   "cell_type": "code",
   "execution_count": 124,
   "metadata": {},
   "outputs": [
    {
     "data": {
      "text/plain": [
       "0.8943452680836967"
      ]
     },
     "execution_count": 124,
     "metadata": {},
     "output_type": "execute_result"
    }
   ],
   "source": [
    "sheet_1[\"BIRTH WEIGHT(kg)\"].corr(sheet_1[\"GA USG(weeks)\"])"
   ]
  },
  {
   "cell_type": "code",
   "execution_count": 126,
   "metadata": {},
   "outputs": [
    {
     "ename": "NameError",
     "evalue": "name 'ga_usg_model' is not defined",
     "output_type": "error",
     "traceback": [
      "\u001b[0;31m---------------------------------------------------------------------------\u001b[0m",
      "\u001b[0;31mNameError\u001b[0m                                 Traceback (most recent call last)",
      "\u001b[0;32m<ipython-input-126-48ec6cc0815e>\u001b[0m in \u001b[0;36m<module>\u001b[0;34m\u001b[0m\n\u001b[1;32m      5\u001b[0m \u001b[0mga_ballard\u001b[0m \u001b[0;34m=\u001b[0m \u001b[0msheet_1\u001b[0m\u001b[0;34m.\u001b[0m\u001b[0miloc\u001b[0m\u001b[0;34m[\u001b[0m\u001b[0;34m:\u001b[0m\u001b[0;34m,\u001b[0m \u001b[0;36m9\u001b[0m\u001b[0;34m]\u001b[0m\u001b[0;34m[\u001b[0m\u001b[0;36m155\u001b[0m\u001b[0;34m:\u001b[0m\u001b[0;36m187\u001b[0m\u001b[0;34m]\u001b[0m\u001b[0;34m.\u001b[0m\u001b[0mvalues\u001b[0m\u001b[0;34m\u001b[0m\u001b[0m\n\u001b[1;32m      6\u001b[0m \u001b[0;34m\u001b[0m\u001b[0m\n\u001b[0;32m----> 7\u001b[0;31m \u001b[0mprint\u001b[0m\u001b[0;34m(\u001b[0m\u001b[0mscipy\u001b[0m\u001b[0;34m.\u001b[0m\u001b[0mstats\u001b[0m\u001b[0;34m.\u001b[0m\u001b[0mpearsonr\u001b[0m\u001b[0;34m(\u001b[0m\u001b[0mga_usg_org\u001b[0m\u001b[0;34m,\u001b[0m \u001b[0mga_usg_model\u001b[0m\u001b[0;34m)\u001b[0m\u001b[0;34m)\u001b[0m\u001b[0;34m\u001b[0m\u001b[0m\n\u001b[0m\u001b[1;32m      8\u001b[0m \u001b[0mprint\u001b[0m\u001b[0;34m(\u001b[0m\u001b[0mscipy\u001b[0m\u001b[0;34m.\u001b[0m\u001b[0mstats\u001b[0m\u001b[0;34m.\u001b[0m\u001b[0mpearsonr\u001b[0m\u001b[0;34m(\u001b[0m\u001b[0mga_lmp\u001b[0m\u001b[0;34m,\u001b[0m \u001b[0mga_usg_model\u001b[0m\u001b[0;34m)\u001b[0m\u001b[0;34m)\u001b[0m\u001b[0;34m\u001b[0m\u001b[0m\n\u001b[1;32m      9\u001b[0m \u001b[0;34m\u001b[0m\u001b[0m\n",
      "\u001b[0;31mNameError\u001b[0m: name 'ga_usg_model' is not defined"
     ]
    }
   ],
   "source": [
    "fl_test = sheet_1.iloc[:, 3][155:187].values \n",
    "ga_usg_org =  sheet_1.iloc[:, 8][155:187].values \n",
    "ga_model = [lr.coef_[0][0]*x+lr.intercept_[0] for x in fl_test]\n",
    "ga_lmp = sheet_1.iloc[:, 7][155:187].values \n",
    "ga_ballard = sheet_1.iloc[:, 9][155:187].values \n",
    "\n",
    "print(scipy.stats.pearsonr(ga_usg_org, ga_usg_model))\n",
    "print(scipy.stats.pearsonr(ga_lmp, ga_usg_model))\n",
    "\n",
    "ga_ballard_err = []\n",
    "i=0\n",
    "for x in ga_model:\n",
    "    error_percent = (x - ga_ballard[i])/ga_ballard[i] * 100\n",
    "    ga_ballard_err.append(error_percent)\n",
    "    i+=1\n",
    "ga_ballard_err\n",
    "\n",
    "print(np.mean(ga_ballard_err))\n",
    "ga_lmp_err = []\n",
    "i=0\n",
    "for x in ga_model:\n",
    "    error_percent = (x - ga_lmp[i])/ga_lmp[i] * 100\n",
    "    ga_lmp_err.append(error_percent)\n",
    "    i+=1\n",
    "ga_lmp_err\n",
    "print(np.mean(ga_lmp_err))"
   ]
  },
  {
   "cell_type": "code",
   "execution_count": 127,
   "metadata": {},
   "outputs": [
    {
     "data": {
      "text/plain": [
       "0.9541659047555912"
      ]
     },
     "execution_count": 127,
     "metadata": {},
     "output_type": "execute_result"
    }
   ],
   "source": [
    "sheet_1[\"GA BALLARD(weeks)\"].corr(sheet_1[\"GA USG(weeks)\"])"
   ]
  },
  {
   "cell_type": "code",
   "execution_count": 132,
   "metadata": {},
   "outputs": [
    {
     "name": "stdout",
     "output_type": "stream",
     "text": [
      "97\n"
     ]
    }
   ],
   "source": [
    "male=sheet_1[sheet_1[\"GENDER\"] == 'male'].shape[0]\n",
    "print(male)"
   ]
  },
  {
   "cell_type": "code",
   "execution_count": 133,
   "metadata": {},
   "outputs": [
    {
     "name": "stdout",
     "output_type": "stream",
     "text": [
      "103\n"
     ]
    }
   ],
   "source": [
    "female=sheet_1[sheet_1[\"GENDER\"] == 'female'].shape[0]\n",
    "print(female)"
   ]
  },
  {
   "cell_type": "markdown",
   "metadata": {},
   "source": [
    "# Distribution of Gender of the newborns"
   ]
  },
  {
   "cell_type": "code",
   "execution_count": 134,
   "metadata": {},
   "outputs": [
    {
     "data": {
      "image/png": "[encoded data removed]",
      "text/plain": [
       "<Figure size 640x480 with 1 Axes>"
      ]
     },
     "metadata": {},
     "output_type": "display_data"
    }
   ],
   "source": [
    "labels = ['Male', 'Female',]\n",
    "sizes = [male, female]\n",
    "colors = ['lightskyblue', 'lightcoral']\n",
    "plt.pie(sizes, colors=colors, shadow=True, startangle=90, autopct='%1.0f%%')\n",
    "plt.legend(patches, labels, loc=\"best\")\n",
    "plt.axis('equal')\n",
    "plt.tight_layout()\n",
    "plt.show()"
   ]
  },
  {
   "cell_type": "markdown",
   "metadata": {},
   "source": [
    "# Distribution of gestational age of the newborns"
   ]
  },
  {
   "cell_type": "code",
   "execution_count": 147,
   "metadata": {},
   "outputs": [
    {
     "name": "stdout",
     "output_type": "stream",
     "text": [
      "[{'range': '26-26.5', 'count': 1, 'avg_foot_length': 44.6}, {'range': '26.5-27.0', 'count': 0, 'avg_foot_length': 0}, {'range': '27.0-27.5', 'count': 0, 'avg_foot_length': 0}, {'range': '27.5-28.0', 'count': 0, 'avg_foot_length': 0}, {'range': '28.0-28.5', 'count': 0, 'avg_foot_length': 0}, {'range': '28.5-29.0', 'count': 2, 'avg_foot_length': 57.5}, {'range': '29.0-29.5', 'count': 2, 'avg_foot_length': 50.95}, {'range': '29.5-30.0', 'count': 1, 'avg_foot_length': 54.4}, {'range': '30.0-30.5', 'count': 2, 'avg_foot_length': 58.05}, {'range': '30.5-31.0', 'count': 1, 'avg_foot_length': 63.4}, {'range': '31.0-31.5', 'count': 2, 'avg_foot_length': 63.7}, {'range': '31.5-32.0', 'count': 2, 'avg_foot_length': 66.05}, {'range': '32.0-32.5', 'count': 4, 'avg_foot_length': 67.075}, {'range': '32.5-33.0', 'count': 1, 'avg_foot_length': 66.5}, {'range': '33.0-33.5', 'count': 1, 'avg_foot_length': 66.2}, {'range': '33.5-34.0', 'count': 0, 'avg_foot_length': 0}, {'range': '34.0-34.5', 'count': 2, 'avg_foot_length': 69.3}, {'range': '34.5-35.0', 'count': 0, 'avg_foot_length': 0}, {'range': '35.0-35.5', 'count': 5, 'avg_foot_length': 71.32}, {'range': '35.5-36.0', 'count': 7, 'avg_foot_length': 72.28571428571429}, {'range': '36.0-36.5', 'count': 27, 'avg_foot_length': 72.9481481481481}, {'range': '36.5-37.0', 'count': 9, 'avg_foot_length': 74.1888888888889}, {'range': '37.0-37.5', 'count': 39, 'avg_foot_length': 76.0205128205128}, {'range': '37.5-38.0', 'count': 13, 'avg_foot_length': 77.92307692307692}, {'range': '38.0-38.5', 'count': 27, 'avg_foot_length': 77.91851851851851}, {'range': '38.5-39.0', 'count': 16, 'avg_foot_length': 78.06875000000001}, {'range': '39.0-39.5', 'count': 22, 'avg_foot_length': 80.01818181818182}, {'range': '39.5-40.0', 'count': 7, 'avg_foot_length': 81.04285714285716}, {'range': '40.0-40.5', 'count': 6, 'avg_foot_length': 81.75}, {'range': '40.5-41.0', 'count': 1, 'avg_foot_length': 84.1}, {'range': '41.0-41.5', 'count': 0, 'avg_foot_length': 0}]\n"
     ]
    }
   ],
   "source": [
    "start= 26\n",
    "end=26.5\n",
    "map_=[]\n",
    "\n",
    "while end < 42:\n",
    "    count =0\n",
    "    sum = 0\n",
    "    for index, row in sheet_1.iterrows():\n",
    "        if start< row['GA USG(weeks)'] <=end:\n",
    "            count+=1\n",
    "            sum+=row['FOOT-LENGTH(mm)']\n",
    "    obj={}\n",
    "    obj['range']=str(start)+'-'+str(end)\n",
    "    obj['count'] = count\n",
    "    if count>0:\n",
    "        obj['avg_foot_length'] = sum/count\n",
    "    else:\n",
    "        obj['avg_foot_length'] = 0\n",
    "    map_.append(obj)\n",
    "    end+=0.5\n",
    "    start+=0.5\n",
    "    \n",
    "print(map_)"
   ]
  },
  {
   "cell_type": "code",
   "execution_count": 168,
   "metadata": {},
   "outputs": [
    {
     "data": {
      "image/png": "[encoded data removed]",
      "text/plain": [
       "<Figure size 1000x300 with 1 Axes>"
      ]
     },
     "metadata": {},
     "output_type": "display_data"
    }
   ],
   "source": [
    "import matplotlib.pyplot as plt; plt.rcdefaults()\n",
    "import numpy as np\n",
    "import matplotlib.pyplot as plt\n",
    "\n",
    "objects = ()\n",
    "count=[]\n",
    "for obj in map_:\n",
    "    if obj['count']>0:\n",
    "        objects=objects+(str(obj['range']),)\n",
    "        count.append(int(obj['count']))\n",
    "y_pos = np.arange(len(objects))\n",
    "plt.figure(figsize=(10, 3))  #\n",
    "plt.bar(y_pos, count, align='center', alpha=0.5)\n",
    "plt.xticks(y_pos, objects, rotation='vertical')\n",
    "plt.ylabel('Number of newborns')\n",
    "plt.title('Distribution of gestational age of the newborns')\n",
    "\n",
    "plt.show()"
   ]
  },
  {
   "cell_type": "code",
   "execution_count": 169,
   "metadata": {},
   "outputs": [
    {
     "data": {
      "image/png": "[encoded data removed]",
      "text/plain": [
       "<Figure size 1000x300 with 1 Axes>"
      ]
     },
     "metadata": {},
     "output_type": "display_data"
    }
   ],
   "source": [
    "objects = ()\n",
    "avg=[]\n",
    "for obj in map_:\n",
    "    if obj['count']>0:\n",
    "        objects=objects+(str(obj['range']),)\n",
    "        avg.append(int(obj['avg_foot_length']))\n",
    "plt.figure(figsize=(10, 3))  #\n",
    "plt.bar(y_pos, avg, align='center', alpha=0.5)\n",
    "plt.xticks(y_pos, objects, rotation='vertical')\n",
    "plt.ylabel('Average foot length in mm')\n",
    "plt.title('Distribution of gestational age of the newborns')\n",
    "\n",
    "plt.show()"
   ]
  },
  {
   "cell_type": "code",
   "execution_count": 153,
   "metadata": {},
   "outputs": [
    {
     "data": {
      "image/png": "[encoded data removed]",
      "text/plain": [
       "<Figure size 640x480 with 1 Axes>"
      ]
     },
     "metadata": {},
     "output_type": "display_data"
    }
   ],
   "source": [
    "y_pos = []\n",
    "avg = []\n",
    "\n",
    "for obj in map_:\n",
    "    if obj['count']>0:\n",
    "        y_pos.append(obj['range'])\n",
    "        avg.append(int(obj['avg_foot_length']))\n",
    "plt.scatter(y_pos, avg)\n",
    "plt.plot(y_pos, avg)\n",
    "plt.xticks(y_pos, objects, rotation='vertical')\n",
    "plt.ylabel('Average foot length in mm')\n",
    "plt.subplots_adjust(bottom=0.15)\n",
    "plt.show()"
   ]
  },
  {
   "cell_type": "code",
   "execution_count": 141,
   "metadata": {},
   "outputs": [
    {
     "name": "stdout",
     "output_type": "stream",
     "text": [
      "200\n"
     ]
    }
   ],
   "source": [
    "sum=0\n",
    "for obj in map_:\n",
    "    sum=sum+int(obj['count'])\n",
    "\n",
    "print(sum)"
   ]
  },
  {
   "cell_type": "code",
   "execution_count": 13,
   "metadata": {},
   "outputs": [
    {
     "name": "stdout",
     "output_type": "stream",
     "text": [
      "[{'range': '0.5-1', 'count': 5, 'percentage': 2.5}, {'range': '1.0-1.5', 'count': 13, 'percentage': 6.5}, {'range': '1.5-2.0', 'count': 6, 'percentage': 3.0}, {'range': '2.0-2.5', 'count': 46, 'percentage': 23.0}, {'range': '2.5-3.0', 'count': 68, 'percentage': 34.0}, {'range': '3.0-3.5', 'count': 47, 'percentage': 23.5}, {'range': '3.5-4.0', 'count': 15, 'percentage': 7.5}]\n"
     ]
    }
   ],
   "source": [
    "bw_start = 0.5\n",
    "bw_end=1\n",
    "\n",
    "map_=[]\n",
    "\n",
    "while bw_end < 4.5:\n",
    "    count =0\n",
    "    sum = 0\n",
    "    for index, row in sheet_1.iterrows():\n",
    "        if bw_start< row['BIRTH WEIGHT(kg)'] <=bw_end:\n",
    "            count+=1\n",
    "\n",
    "    obj={}\n",
    "    obj['range']=str(bw_start)+'-'+str(bw_end)\n",
    "    obj['count'] = count\n",
    "    obj['percentage'] = count/200*100\n",
    "    map_.append(obj)\n",
    "    bw_start+=0.5\n",
    "    bw_end+=0.5\n",
    "    \n",
    "print(map_)\n"
   ]
  },
  {
   "cell_type": "code",
   "execution_count": null,
   "metadata": {},
   "outputs": [],
   "source": []
  }
 ],
 "metadata": {
  "kernelspec": {
   "display_name": "Python 3",
   "language": "python",
   "name": "python3"
  },
  "language_info": {
   "codemirror_mode": {
    "name": "ipython",
    "version": 3
   },
   "file_extension": ".py",
   "mimetype": "text/x-python",
   "name": "python",
   "nbconvert_exporter": "python",
   "pygments_lexer": "ipython3",
   "version": "3.6.5"
  }
 },
 "nbformat": 4,
 "nbformat_minor": 2
}
